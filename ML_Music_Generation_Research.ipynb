{
  "nbformat": 4,
  "nbformat_minor": 0,
  "metadata": {
    "colab": {
      "name": "ML Music Generation Research",
      "provenance": [],
      "authorship_tag": "ABX9TyMPv4p10H1vVpPCNMRMDJwo",
      "include_colab_link": true
    },
    "kernelspec": {
      "name": "python3",
      "display_name": "Python 3"
    }
  },
  "cells": [
    {
      "cell_type": "markdown",
      "metadata": {
        "id": "view-in-github",
        "colab_type": "text"
      },
      "source": [
        "<a href=\"https://colab.research.google.com/github/coltoncandy/ML-Music-Generation-Research/blob/test-branch/ML_Music_Generation_Research.ipynb\" target=\"_parent\"><img src=\"https://colab.research.google.com/assets/colab-badge.svg\" alt=\"Open In Colab\"/></a>"
      ]
    },
    {
      "cell_type": "code",
      "metadata": {
        "colab": {
          "base_uri": "https://localhost:8080/"
        },
        "id": "D5knrQ0AWMj6",
        "outputId": "4eae14f3-0719-421d-cda6-880521282bd4"
      },
      "source": [
        "print(\"Test branching\")"
      ],
      "execution_count": 4,
      "outputs": [
        {
          "output_type": "stream",
          "text": [
            "Test branching\n"
          ],
          "name": "stdout"
        }
      ]
    }
  ]
}